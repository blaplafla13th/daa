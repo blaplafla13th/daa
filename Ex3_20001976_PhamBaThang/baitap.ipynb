{
 "cells": [
  {
   "cell_type": "markdown",
   "source": [
    "# Lý thuyết\n",
    "1. Câu 2: Độ phức tạp của thuật toán đệ quy (Công thức và ý nghĩa của từng tham số)\n",
    "$$T(n)=\n",
    "\\left\\{\n",
    "  \\begin{array}{ll}\n",
    "    c&if\\;(n = n_0) \\\\\n",
    "    a.T(f(n))+g(n)&if\\;(n \\neq n_0)\n",
    "  \\end{array}\n",
    "  \\right.\n",
    "$$\n",
    "    - $c$: thời gian chạy trong trường hợp suy biến\n",
    "    - $n = n_0$: trường hợp suy biến\n",
    "    - $a$: số lần gọi đệ quy\n",
    "    - $n$: là kích thước của vấn đề cần giải đệ quy\n",
    "    - $g(n)$: là các xử lý khác\n",
    "\n",
    "2. Câu 3: Phương pháp giải công thức truy hồi (Nêu rõ phương pháp, ví dụ và cách giải ví dụ đấy dựa trên các phương pháp đã nêu)\n",
    "    1. Phép thế toán học\n",
    "$$T(n)=\n",
    "\\left\\{\n",
    "    \\begin{array}{ll}\n",
    "        1&if\\;(n = 0, n = 1) \\\\\n",
    "        T(n-2)+2&if\\;(n > 1)\n",
    "    \\end{array}\n",
    "\\right.\n",
    "$$\n",
    "$$\n",
    "\\begin{array}{ll}\n",
    "    T(n) = T(n-2) + 2 \\\\\n",
    "    T(n) = T(n-4) + 2 + 2 \\\\\n",
    "    T(n) = ... \\\\\n",
    "    T(n) = T(n - 2 * \\lfloor \\frac{n}{2} \\rfloor) + 2*{\\lceil \\frac{n}{2} \\rceil} \\\\\n",
    "    T(n) = 1 + 2*{\\lceil \\frac{n}{2} \\rceil} \\\\\n",
    "    \\Rightarrow T(n) = O(n)\n",
    "\\end{array}\n",
    "$$\n",
    "\n",
    "   2. Định lý chính\n",
    "\n",
    "$$T(n)=\n",
    "\\left\\{\n",
    "    \\begin{array}{ll}\n",
    "        2&if\\;(n = 1) \\\\\n",
    "        4.T(\\frac{n}{3})+3n-5&if\\;(n > 1)\n",
    "    \\end{array}\n",
    "\\right.\n",
    "$$\n",
    "$$\n",
    "\\begin{array}{ll}\n",
    "    a = 4, b = 3, d = 1 \\\\\n",
    "    \\Rightarrow a > b^d \\\\\n",
    "    \\Rightarrow T(n) = O(n^{\\log_b a}) = O(n^{\\log_3 4})\n",
    "\\end{array}\n",
    "$$\n",
    "# Giải công thức đệ quy để xác định độ phức tạp của thuật toán\n",
    "1.\n",
    "$$T(n)=\n",
    "\\left\\{\n",
    "    \\begin{array}{ll}\n",
    "        1&if\\;(n = 0, n = 1) \\\\\n",
    "        T(n-2)+2&if\\;(n > 1)\n",
    "    \\end{array}\n",
    "\\right.\n",
    "$$\n",
    "$$\n",
    "\\begin{array}{ll}\n",
    "    T(n) = T(n-2) + 2 \\\\\n",
    "    T(n) = T(n-4) + 2 + 2 \\\\\n",
    "    T(n) = ... \\\\\n",
    "    T(n) = T(n - 2 * \\lfloor \\frac{n}{2} \\rfloor) + 2*{\\lceil \\frac{n}{2} \\rceil} \\\\\n",
    "    T(n) = 1 + 2*{\\lceil \\frac{n}{2} \\rceil} \\\\\n",
    "    \\Rightarrow T(n) = O(n) \\\\\n",
    "\\end{array}\n",
    "$$\n",
    "\n",
    "2.\n",
    "$$T(n)=\n",
    "\\left\\{\n",
    "    \\begin{array}{ll}\n",
    "        a.T(\\frac{n}{b})+n^c&if\\;(n > 1) \\\\\n",
    "        d&if\\;(n = 1)\n",
    "    \\end{array}\n",
    "\\right.\n",
    "$$\n",
    "$$T(n)=\n",
    "\\left\\{\n",
    "    \\begin{array}{ll}\n",
    "        O(n^c)&if\\;(a < b^c) \\\\\n",
    "        O(n^c.\\log n)&if\\;(a = b^c) \\\\\n",
    "        O(n^{\\log_b a})&if\\;(a > b^c)\n",
    "    \\end{array}\n",
    "\\right.\n",
    "$$\n",
    "\n",
    "# Viết chương trình cho bài toán\n",
    "1. Tổng các chữ số của một số"
   ],
   "metadata": {
    "collapsed": false
   }
  },
  {
   "cell_type": "code",
   "execution_count": 1,
   "outputs": [
    {
     "data": {
      "text/plain": "9"
     },
     "execution_count": 1,
     "metadata": {},
     "output_type": "execute_result"
    }
   ],
   "source": [
    "def sum(n):\n",
    "    if n == 0:\n",
    "        return 0\n",
    "    return n % 10 + sum(n // 10)\n",
    "\n",
    "\n",
    "sum(234)"
   ],
   "metadata": {
    "collapsed": false
   }
  },
  {
   "cell_type": "markdown",
   "source": [
    "2. Liệt kê các số nguyên tố nhỏ hơn n"
   ],
   "metadata": {
    "collapsed": false
   }
  },
  {
   "cell_type": "code",
   "execution_count": 19,
   "outputs": [
    {
     "name": "stdout",
     "output_type": "stream",
     "text": [
      "0 False\n",
      "1 False\n",
      "2 True\n",
      "3 True\n",
      "4 False\n",
      "5 True\n"
     ]
    }
   ],
   "source": [
    "import math\n",
    "\n",
    "\n",
    "def is_prime(n, a=2):\n",
    "    if n < a:\n",
    "        return False\n",
    "    elif a > math.sqrt(n):\n",
    "        return True\n",
    "    else:\n",
    "        if n % a == 0:\n",
    "            return False\n",
    "        else:\n",
    "            return is_prime(n, a + 1)\n",
    "\n",
    "\n",
    "for i in range(6):\n",
    "    print(i, is_prime(i))"
   ],
   "metadata": {
    "collapsed": false
   }
  },
  {
   "cell_type": "code",
   "execution_count": 20,
   "outputs": [
    {
     "data": {
      "text/plain": "[7, 5, 3, 2]"
     },
     "execution_count": 20,
     "metadata": {},
     "output_type": "execute_result"
    }
   ],
   "source": [
    "def list_prime(n):\n",
    "    if n == 2:\n",
    "        return [2]\n",
    "    elif is_prime(n):\n",
    "        return [n] + list_prime(n - 1)\n",
    "    else:\n",
    "        return list_prime(n - 1)\n",
    "\n",
    "\n",
    "list_prime(10)"
   ],
   "metadata": {
    "collapsed": false
   }
  },
  {
   "cell_type": "markdown",
   "source": [
    "3. Liệt kê n số nguyên tố đầu tiên"
   ],
   "metadata": {
    "collapsed": false
   }
  },
  {
   "cell_type": "code",
   "execution_count": 21,
   "outputs": [
    {
     "data": {
      "text/plain": "[2, 3, 5, 7, 11, 13, 17, 19, 23, 29]"
     },
     "execution_count": 21,
     "metadata": {},
     "output_type": "execute_result"
    }
   ],
   "source": [
    "def list_n_prime(n, a=2):\n",
    "    if n > 0:\n",
    "        if is_prime(a):\n",
    "            return [a] + list_n_prime(n - 1, a + 1)\n",
    "        else:\n",
    "            return list_n_prime(n, a + 1)\n",
    "    else:\n",
    "        return []\n",
    "\n",
    "\n",
    "list_n_prime(10)"
   ],
   "metadata": {
    "collapsed": false
   }
  },
  {
   "cell_type": "markdown",
   "source": [
    "4. Đảo ngược một chuỗi (Reverse a string)"
   ],
   "metadata": {
    "collapsed": false
   }
  },
  {
   "cell_type": "code",
   "execution_count": 24,
   "outputs": [
    {
     "data": {
      "text/plain": "'9876543120fedcba'"
     },
     "execution_count": 24,
     "metadata": {},
     "output_type": "execute_result"
    }
   ],
   "source": [
    "def reverse(a, n=0):\n",
    "    a = list(a)\n",
    "    if n > len(a) // 2:\n",
    "        return ''.join(a)\n",
    "    else:\n",
    "        a[n], a[len(a) - 1 - n] = a[len(a) - 1 - n], a[n]\n",
    "        return reverse(a, n + 1)\n",
    "\n",
    "\n",
    "reverse(\"abcdef0123456789\")"
   ],
   "metadata": {
    "collapsed": false
   }
  },
  {
   "cell_type": "markdown",
   "source": [
    "5. In ra tam giác Pascal có n tầng"
   ],
   "metadata": {
    "collapsed": false
   }
  },
  {
   "cell_type": "code",
   "execution_count": 25,
   "outputs": [
    {
     "data": {
      "text/plain": "[[1],\n [1, 1],\n [1, 2, 1],\n [1, 3, 3, 1],\n [1, 4, 6, 4, 1],\n [1, 5, 10, 10, 5, 1],\n [1, 6, 15, 20, 15, 6, 1],\n [1, 7, 21, 35, 35, 21, 7, 1],\n [1, 8, 28, 56, 70, 56, 28, 8, 1],\n [1, 9, 36, 84, 126, 126, 84, 36, 9, 1]]"
     },
     "execution_count": 25,
     "metadata": {},
     "output_type": "execute_result"
    }
   ],
   "source": [
    "def pascal(n):\n",
    "    if n == 1:\n",
    "        return [[1]]\n",
    "    else:\n",
    "        a = pascal(n - 1)\n",
    "        b = [1]\n",
    "        for i in range(len(a[-1]) - 1):\n",
    "            b.append(a[-1][i] + a[-1][i + 1])\n",
    "        b.append(1)\n",
    "        return a + [b]\n",
    "\n",
    "\n",
    "pascal(10)"
   ],
   "metadata": {
    "collapsed": false
   }
  }
 ],
 "metadata": {
  "kernelspec": {
   "display_name": "Python 3",
   "language": "python",
   "name": "python3"
  },
  "language_info": {
   "codemirror_mode": {
    "name": "ipython",
    "version": 2
   },
   "file_extension": ".py",
   "mimetype": "text/x-python",
   "name": "python",
   "nbconvert_exporter": "python",
   "pygments_lexer": "ipython2",
   "version": "2.7.6"
  }
 },
 "nbformat": 4,
 "nbformat_minor": 0
}
