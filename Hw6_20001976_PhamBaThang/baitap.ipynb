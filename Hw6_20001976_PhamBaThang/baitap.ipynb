{
 "cells": [
  {
   "cell_type": "markdown",
   "source": [
    "# Lý thuyết phương pháp\n",
    "\n",
    "Phương pháp tham lam là một kỹ thuật thiết kế thuật toán, trong đó mỗi bước của thuật toán đưa ra quyết định tối ưu nhất có thể tại thời điểm đó, không quan tâm đến các quyết định trước hay sau.\n",
    "\n",
    "Lược đồ tổng quát của phương pháp tham lam gồm các bước sau:\n",
    "\n",
    "- Tập ứng viên A và tập nghiệm S\n",
    "- Thực hiện vòng lặp trên tập A:\n",
    "    - Lấy 1 phần tử x từ A\n",
    "    - Nếu x chấp nhận được thì thêm vào S\n",
    "\n",
    "Ưu điểm của phương pháp tham lam là đơn giản, dễ hiểu và thường cho kết quả nhanh chóng.\n",
    "\n",
    "Nhược điểm của phương pháp tham lam là không phải bài toán nào cũng có thể áp dụng được, và không phải lúc nào cũng đảm bảo được tính tối ưu toàn cục. Đôi khi, việc lựa chọn tối ưu tại mỗi bước có thể dẫn đến những hậu quả xấu sau này, hoặc bỏ qua những lựa chọn tốt hơn.\n",
    "\n",
    "# Bài tập lập trình\n",
    "\n",
    "## Bài toán đổi tiền (change coins)\n"
   ],
   "metadata": {
    "collapsed": false
   }
  },
  {
   "cell_type": "code",
   "execution_count": 1,
   "outputs": [],
   "source": [
    "def change_money(A, T):\n",
    "    S = [0]*len(A)\n",
    "    for i in range(len(A)):\n",
    "        S[i] = T//A[i]\n",
    "        T = T - A[i] * S[i]\n",
    "    return S"
   ],
   "metadata": {
    "collapsed": false,
    "ExecuteTime": {
     "start_time": "2023-04-16T10:43:52.484684Z",
     "end_time": "2023-04-16T10:43:52.595976Z"
    }
   }
  },
  {
   "cell_type": "code",
   "execution_count": 2,
   "metadata": {
    "collapsed": true,
    "ExecuteTime": {
     "start_time": "2023-04-16T10:43:52.537378Z",
     "end_time": "2023-04-16T10:43:52.676355Z"
    }
   },
   "outputs": [
    {
     "data": {
      "text/plain": "[500, 0, 0]"
     },
     "execution_count": 2,
     "metadata": {},
     "output_type": "execute_result"
    }
   ],
   "source": [
    "A = [1,2,5]\n",
    "T = 500\n",
    "change_money(A, T)"
   ]
  },
  {
   "cell_type": "markdown",
   "source": [
    "## Bài toán xếp balo 0-1 (0-1 knapsack)"
   ],
   "metadata": {
    "collapsed": false
   }
  },
  {
   "cell_type": "code",
   "execution_count": 3,
   "outputs": [],
   "source": [
    "def knapsack_01(bag_weight, items: list):\n",
    "    if len(items) == 0 or bag_weight == 0:\n",
    "        return 0\n",
    "    items.sort()\n",
    "    bag = []\n",
    "    current_weight = 0\n",
    "    while current_weight < bag_weight:\n",
    "        item = items.pop(-1)\n",
    "        if current_weight + item <= bag_weight:\n",
    "            bag.append(item)\n",
    "            current_weight += item\n",
    "    return bag"
   ],
   "metadata": {
    "collapsed": false,
    "ExecuteTime": {
     "start_time": "2023-04-16T10:43:52.571165Z",
     "end_time": "2023-04-16T10:43:52.682792Z"
    }
   }
  },
  {
   "cell_type": "code",
   "execution_count": 4,
   "outputs": [
    {
     "data": {
      "text/plain": "[7, 3]"
     },
     "execution_count": 4,
     "metadata": {},
     "output_type": "execute_result"
    }
   ],
   "source": [
    "items_list = [3,6,1,5,2,5,4,7,1]\n",
    "bag_weight = 10\n",
    "knapsack_01(bag_weight, items_list)"
   ],
   "metadata": {
    "collapsed": false,
    "ExecuteTime": {
     "start_time": "2023-04-16T10:43:52.585492Z",
     "end_time": "2023-04-16T10:43:52.685135Z"
    }
   }
  },
  {
   "cell_type": "markdown",
   "source": [
    "## Bài toán lập lịch sử dụng tài nguyên (Activity Selection/Task Scheduling)"
   ],
   "metadata": {
    "collapsed": false
   }
  },
  {
   "cell_type": "code",
   "execution_count": 5,
   "outputs": [],
   "source": [
    "def activity_selector(task_lists):\n",
    "    task_lists.sort(key=lambda x: x[1])\n",
    "    res = [task_lists[0]]\n",
    "    for i in range(1, len(task_lists)):\n",
    "        if task_lists[i][0] >= res[-1][1]:\n",
    "            res.append(task_lists[i])\n",
    "    return res\n"
   ],
   "metadata": {
    "collapsed": false,
    "ExecuteTime": {
     "start_time": "2023-04-16T10:43:52.628313Z",
     "end_time": "2023-04-16T10:43:52.686146Z"
    }
   }
  },
  {
   "cell_type": "code",
   "execution_count": 6,
   "outputs": [
    {
     "data": {
      "text/plain": "[(1, 4), (5, 7), (8, 11), (12, 16)]"
     },
     "execution_count": 6,
     "metadata": {},
     "output_type": "execute_result"
    }
   ],
   "source": [
    "tasks = [(1,4),(3,5),(0,6),(5,7),(3,9),(5,9),(6,10),(8,11),(8,12),(2,14),(12,16)]\n",
    "activity_selector(tasks)"
   ],
   "metadata": {
    "collapsed": false,
    "ExecuteTime": {
     "start_time": "2023-04-16T10:43:52.628585Z",
     "end_time": "2023-04-16T10:43:52.688400Z"
    }
   }
  },
  {
   "cell_type": "markdown",
   "source": [
    "# Bài tập Anany book\n",
    "## Exercise 9.1\n",
    "\n",
    "1. What are the obstacles faced when constructing a minimum spanning tree by exhaustive search?\n",
    "\n",
    "Nếu sử dụng các phương pháp thử và sai để cố gắng tìm ra nghiệm tốt nhất thì với đồ thị to, số lượng cây con sẽ lớn, dẫn đến việc liệt kê và đánh giá là rất khó, sử dụng tham lam để tối ưu cục bộ là giải pháp tốt hơn nhiều\n",
    "\n",
    "2. How can one use Prim’s algorithm to find a spanning tree of a connected graph with no weights on its edges? Is it a good algorithm for this problem?\n",
    "\n",
    "Chúng ta có thể gán tất cả các cạnh cùng 1 trọng số và bất cứ cây con nào cũng sẽ là kết quả do trọng số bằng nhau. Đương nhiên thuật toán không hiệu quả\n",
    "\n",
    "## Exercise 9.2\n",
    "1. Give a comparative study of time and space complexity between Prim’s and Kruskal’s algorithms.\n",
    "\n",
    "| Algorithm | Time complexity | Space complexity |\n",
    "|-----------|-----------------|------------------|\n",
    "| Prim      | O(E log V)      | O(V)             |\n",
    "| Kruskal   | O(E log V)      | O(E + V)         |\n",
    "\n",
    "2. Prove that a graph found in Kruskal’s algorithm is always acyclic.\n",
    "\n",
    "Thuật toán Kruskal hoạt động bằng cách sắp xếp các cạnh của đồ thị theo trọng số tăng dần và lặp lại việc thêm cạnh vào cây khung nhỏ nhất (MST) hiện tại nếu việc thêm cạnh đó không tạo ra chu trình. Điều này có nghĩa là thuật toán Kruskal chỉ thêm các cạnh vào MST nếu chúng không tạo ra chu trình."
   ],
   "metadata": {
    "collapsed": false
   }
  }
 ],
 "metadata": {
  "kernelspec": {
   "display_name": "Python 3",
   "language": "python",
   "name": "python3"
  },
  "language_info": {
   "codemirror_mode": {
    "name": "ipython",
    "version": 2
   },
   "file_extension": ".py",
   "mimetype": "text/x-python",
   "name": "python",
   "nbconvert_exporter": "python",
   "pygments_lexer": "ipython2",
   "version": "2.7.6"
  }
 },
 "nbformat": 4,
 "nbformat_minor": 0
}
