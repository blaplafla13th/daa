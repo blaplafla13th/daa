{
 "cells": [
  {
   "cell_type": "markdown",
   "metadata": {
    "collapsed": false
   },
   "source": [
    "# Lí thuyết phương pháp\n",
    "\n",
    "Trình bày (ngắn gọn) ý tưởng và lược đồ tổng quát của phương pháp\n",
    "\n",
    "## Vét cạn (Brute Force/Exhaustive)\n",
    "\n",
    "- Tạo ra hết tất cả lời giải khả thi và chọn một giải pháp phù hợp với yêu cầu bài toán\n",
    "- Vét cạn thường sử dụng quay lui (backtracking) để vét được toàn bộ những lời giải có thể xảy ra.\n",
    "- Lược đồ tổng quát :\n",
    "    1. Xác định không gian tìm kiếm (search space), tức là tập hợp các phương án/lời giải có thể có của bài toán.\n",
    "    2. Sinh và duyệt qua không gian tìm kiếm theo một thứ tự nào đó\n",
    "    3. Đối với mỗi phương án/lời giải trong không gian tìm kiếm, kiểm tra xem nó có thỏa mãn các ràng buộc của bài toán hay không. Nếu có, thì tiếp tục xử lý nó theo yêu cầu của bài toán.\n",
    "- Ưu điểm:\n",
    "    - Chính xác\n",
    "    - Cài đặt đơn giản\n",
    "- Nhược điểm:\n",
    "    - Chạy chậm chỉ có thể sử dụng trong bài toán kích thước nhỏ\n",
    "## Quay lui (Backtracking)\n",
    "- Dùng để giải quyết các bài toán tối ưu và tìm kiếm\n",
    "- Thử các khả năng có thể xảy ra và quay lui nếu gặp trường hợp không thỏa mãn\n",
    "- Lược đồ tổng quát:\n",
    "    1. Chọn một khả năng chưa được thử cho bài toán hiện tại.\n",
    "    2. Kiểm tra yêu cầu ràng buộc của bài toán\n",
    "       1. Nếu đúng tiến hành đề quy để giải quyết bài toán con\n",
    "       2. Nếu sai quay lui và chọn khả năng khác\n",
    "    3. Lặp lại cho đến khi hết khả năng\n",
    "- Ưu điểm:\n",
    "    - Chính xác\n",
    "    - Cài đặt đơn giản\n",
    "    - Giảm bớt các trường hợp phải chạy so với Vét cạn\n",
    "- Nhược điểm:\n",
    "    - Độ phức tạp thời gian cao không hiệu quả với số lượng khả năng lớn\n",
    "\n",
    "# Luyện tập tại lớp\n",
    "\n",
    "## $P(x)=a_nx^n+a_{n-1}x^{n-1}+...+a_1x+a_0$"
   ]
  },
  {
   "cell_type": "code",
   "execution_count": 8,
   "metadata": {},
   "outputs": [],
   "source": [
    "polynomial = [3,4,2] # 3x^2 + 4x + 2\n",
    "x = 2"
   ]
  },
  {
   "attachments": {},
   "cell_type": "markdown",
   "metadata": {
    "collapsed": false
   },
   "source": [
    "### Design a brute-force algorithm for computing the value of a polynomial at a given point $x_0$ and determine its worst-case efficiency class.\n",
    "\n",
    "Độ phức tạp thuật toán\n",
    "$\\Sigma^n_{i=1}\\Pi^i_{j=1}*a[i] \\rightarrow O(\\frac{n(n+1)}{2}) \\rightarrow \\Theta(n^2)$"
   ]
  },
  {
   "cell_type": "code",
   "execution_count": 13,
   "metadata": {
    "collapsed": false
   },
   "outputs": [
    {
     "data": {
      "text/plain": [
       "22"
      ]
     },
     "execution_count": 13,
     "metadata": {},
     "output_type": "execute_result"
    }
   ],
   "source": [
    "def power(x, y):\n",
    "    temp = 1\n",
    "    for i in range(y):\n",
    "        temp *= x\n",
    "    return temp\n",
    "\n",
    "def evaluate_polynomial_1(polynomial,x_0):\n",
    "    sum = 0\n",
    "    for i in range(len(polynomial)):\n",
    "        sum += polynomial[i] * power(x_0, len(polynomial)-1-i)\n",
    "    return sum\n",
    "\n",
    "\n",
    "evaluate_polynomial_1(polynomial, x)"
   ]
  },
  {
   "attachments": {},
   "cell_type": "markdown",
   "metadata": {},
   "source": [
    "### If the algorithm you designed is in $\\Theta(n^2)$, design a linear algorithm for this problem\n",
    "\n",
    "$\\Theta(n)$"
   ]
  },
  {
   "cell_type": "code",
   "execution_count": 14,
   "metadata": {},
   "outputs": [
    {
     "data": {
      "text/plain": [
       "22"
      ]
     },
     "execution_count": 14,
     "metadata": {},
     "output_type": "execute_result"
    }
   ],
   "source": [
    "def evaluate_polynomial_2(polynomial,x_0):\n",
    "    sum = 0\n",
    "    temp_x = 1\n",
    "    for i in range(len(polynomial)):\n",
    "        sum += polynomial[len(polynomial)-1-i] * temp_x\n",
    "        temp_x *= x_0\n",
    "    return sum\n",
    "\n",
    "\n",
    "evaluate_polynomial_1(polynomial, x)"
   ]
  },
  {
   "cell_type": "markdown",
   "metadata": {
    "collapsed": false
   },
   "source": [
    "## Sort the list S, O, R, T , I, N, G in alphabetical order by selection sort."
   ]
  },
  {
   "cell_type": "code",
   "execution_count": 18,
   "metadata": {
    "collapsed": false
   },
   "outputs": [
    {
     "name": "stdout",
     "output_type": "stream",
     "text": [
      "['S', 'O', 'R', 'T', 'I', 'N', 'G']\n",
      "['G', 'O', 'R', 'T', 'I', 'N', 'S']\n",
      "['G', 'I', 'R', 'T', 'O', 'N', 'S']\n",
      "['G', 'I', 'N', 'T', 'O', 'R', 'S']\n",
      "['G', 'I', 'N', 'O', 'T', 'R', 'S']\n",
      "['G', 'I', 'N', 'O', 'R', 'T', 'S']\n",
      "['G', 'I', 'N', 'O', 'R', 'S', 'T']\n",
      "['G', 'I', 'N', 'O', 'R', 'S', 'T']\n"
     ]
    }
   ],
   "source": [
    "def selection_sort(list_char):\n",
    "    for i in range(len(list_char)):\n",
    "        min_index = i\n",
    "        for j in range(i + 1, len(list_char)):\n",
    "            if list_char[j] < list_char[min_index]:\n",
    "                min_index = j\n",
    "\n",
    "        list_char[i], list_char[min_index] = list_char[min_index], list_char[i]\n",
    "        print(list_char)\n",
    "\n",
    "\n",
    "print(['S','O','R','T','I','N', 'G'])\n",
    "selection_sort(['S','O','R','T','I','N', 'G'])"
   ]
  },
  {
   "cell_type": "markdown",
   "metadata": {
    "collapsed": false
   },
   "source": [
    "## Sort the list S, O, R, T , I, N, G in alphabetical order by bubble sort."
   ]
  },
  {
   "cell_type": "code",
   "execution_count": 19,
   "metadata": {
    "collapsed": false
   },
   "outputs": [
    {
     "name": "stdout",
     "output_type": "stream",
     "text": [
      "['S', 'O', 'R', 'T', 'I', 'N', 'G']\n",
      "['O', 'S', 'R', 'T', 'I', 'N', 'G']\n",
      "['O', 'R', 'S', 'T', 'I', 'N', 'G']\n",
      "['O', 'R', 'S', 'I', 'T', 'N', 'G']\n",
      "['O', 'R', 'S', 'I', 'N', 'T', 'G']\n",
      "['O', 'R', 'S', 'I', 'N', 'G', 'T']\n",
      "['O', 'R', 'I', 'S', 'N', 'G', 'T']\n",
      "['O', 'R', 'I', 'N', 'S', 'G', 'T']\n",
      "['O', 'R', 'I', 'N', 'G', 'S', 'T']\n",
      "['O', 'I', 'R', 'N', 'G', 'S', 'T']\n",
      "['O', 'I', 'N', 'R', 'G', 'S', 'T']\n",
      "['O', 'I', 'N', 'G', 'R', 'S', 'T']\n",
      "['I', 'O', 'N', 'G', 'R', 'S', 'T']\n",
      "['I', 'N', 'O', 'G', 'R', 'S', 'T']\n",
      "['I', 'N', 'G', 'O', 'R', 'S', 'T']\n",
      "['I', 'G', 'N', 'O', 'R', 'S', 'T']\n",
      "['G', 'I', 'N', 'O', 'R', 'S', 'T']\n"
     ]
    }
   ],
   "source": [
    "def bubble_sort(list_char):\n",
    "    for i in range(len(list_char)):\n",
    "        swapped = False\n",
    "        for j in range(len(list_char) - 1):\n",
    "            if list_char[j] > list_char[j + 1]:\n",
    "                list_char[j], list_char[j + 1] = list_char[j + 1], list_char[j]\n",
    "                print(list_char)\n",
    "                swapped = True\n",
    "        if not swapped:\n",
    "            break\n",
    "\n",
    "\n",
    "print(['S','O','R','T','I','N', 'G'])\n",
    "bubble_sort(['S','O','R','T','I','N', 'G'])"
   ]
  },
  {
   "attachments": {},
   "cell_type": "markdown",
   "metadata": {
    "collapsed": false
   },
   "source": [
    "## The average number of key comparisons made by sequential search (without a sentinel, under standard assumptions about its inputs) is given by the formula $C(n)=\\frac{p(n+1)}{2}+n(1-p)$ where $p$ is the probability of a successful search. Determine, for a fixed $n$, the values of $p$ $(0 \\leq p \\leq 1)$ for which this formula yields the maximum value of $C(n)$ and the minimum value of $C(n)$.\n",
    "\n",
    "$C(n)=\\frac{p(n+1)}{2}+n(1-p)=p\\frac{n+1}{2}+np=n-p(n-\\frac{n+1}{2})=n-p\\frac{n-1}{2}$ là một hàm tuyến tính với p. Vì hệ số của $p$ là âm khi $n >1$, hàm số này giảm dần nghiêm ngặt trên đoạn $0 \\leq p \\leq 1$ từ giá trị $n$ đến $\\frac{n+1}{2}$ . Do đó $p = 0$ và $p = 1$ lần lượt là điểm cực đại và điểm cực tiểu của hàm số trên đoạn này."
   ]
  }
 ],
 "metadata": {
  "kernelspec": {
   "display_name": "Python 3 (ipykernel)",
   "language": "python",
   "name": "python3"
  },
  "language_info": {
   "codemirror_mode": {
    "name": "ipython",
    "version": 3
   },
   "file_extension": ".py",
   "mimetype": "text/x-python",
   "name": "python",
   "nbconvert_exporter": "python",
   "pygments_lexer": "ipython3",
   "version": "3.9.13"
  }
 },
 "nbformat": 4,
 "nbformat_minor": 0
}
