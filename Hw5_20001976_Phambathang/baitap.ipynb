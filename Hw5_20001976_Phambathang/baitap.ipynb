{
 "cells": [
  {
   "cell_type": "markdown",
   "source": [
    "# Lí thuyết phương pháp\n",
    "## Nhánh cận (Branch and Bound)\n",
    "- Xây dựng cây tìm kiếm và tìm ra giải pháp tốt nhất\n",
    "- Chia nhỏ thành các bài toán con, giải bài toán và loại bỏ các bài toán con không dẫn đến nghiệm tối ưu\n",
    "- Lược đồ tổng quát:\n",
    "    1. Nhánh: Từ một bài toán con hiện tại, sinh ra các bài toán con mới bằng cách thêm vào một hoặc nhiều ràng buộc mới.\n",
    "    2. Cận: Tính toán một giá trị cận dưới hoặc cận trên cho giải pháp tối ưu của mỗi bài toán con. Giá trị cận dưới là một giới hạn dưới cho giải pháp tối ưu của bài toán tối thiểu hóa, còn giá trị cận trên là một giới hạn trên cho giải pháp tối ưu của bài toán tối đa hóa.\n",
    "    3. Chọn: Chọn một bài toán con tiếp theo để xét đến dựa trên các tiêu chí nhất định. Các tiêu chí có thể là: chọn bài toán con có giá trị cận dưới nhỏ nhất (hoặc cận trên lớn nhất), chọn bài toán con có số lượng ràng buộc nhiều nhất, chọn bài toán con có số lượng biến ít nhất, v.v.\n",
    "- Ưu điểm:\n",
    "    - Luôn giải được\n",
    "- Nhược điểm:\n",
    "    - Khó thiết kế thuật toán hiệu quả sẽ khiến cây tìm kiếm bị quá lớn và tốn nhiều thời gian tính toán\n",
    "# Lập trình\n",
    "## Khớp xâu: Tìm các vị trí xuất hiện của xâu mẫu P trong văn bản T cho trước.\n"
   ],
   "metadata": {
    "collapsed": false
   }
  },
  {
   "cell_type": "code",
   "execution_count": 11,
   "outputs": [
    {
     "name": "stdout",
     "output_type": "stream",
     "text": [
      "[0, 0, 1, 2, 3, 0, 1]\n",
      "Found pattern at index 6\n"
     ]
    }
   ],
   "source": [
    "def compute_prefix(pattern, longest_prefix):\n",
    "    length = 0\n",
    "    longest_prefix[0] = 0\n",
    "    i = 1\n",
    "    while i < len(pattern):\n",
    "        if pattern[i] == pattern[length]:\n",
    "            length += 1\n",
    "            longest_prefix[i] = length\n",
    "            i += 1\n",
    "        else:\n",
    "            if length != 0:\n",
    "                length = longest_prefix[length - 1]\n",
    "            else:\n",
    "                longest_prefix[i] = 0\n",
    "                i += 1\n",
    "\n",
    "\n",
    "def matching(pattern, text):\n",
    "    m = len(pattern)\n",
    "    n = len(text)\n",
    "    longest_prefix = [0] * m\n",
    "    compute_prefix(pattern, longest_prefix)\n",
    "    i, j = 0, 0\n",
    "    while n - i >= m - j:\n",
    "        if pattern[j] == text[i]:\n",
    "            i += 1\n",
    "            j += 1\n",
    "        if j == m:\n",
    "            print(\"Found pattern at index \" + str(i - j))\n",
    "            j = longest_prefix[j - 1]\n",
    "        elif i < n and pattern[j] != text[i]:\n",
    "            if j != 0:\n",
    "                j = longest_prefix[j - 1]\n",
    "            else:\n",
    "                i += 1\n",
    "\n",
    "\n",
    "matching(\"ababaca\", \"acababababaca\")"
   ],
   "metadata": {
    "collapsed": false,
    "ExecuteTime": {
     "start_time": "2023-04-03T14:01:40.104931Z",
     "end_time": "2023-04-03T14:01:40.159997Z"
    }
   }
  },
  {
   "cell_type": "markdown",
   "source": [
    "## Dãy nhị phân: Liệt kê các dãy nhị phân có độ dài n."
   ],
   "metadata": {
    "collapsed": false
   }
  },
  {
   "cell_type": "code",
   "execution_count": 18,
   "outputs": [
    {
     "data": {
      "text/plain": "['0000',\n '0001',\n '0010',\n '0011',\n '0100',\n '0101',\n '0110',\n '0111',\n '1000',\n '1001',\n '1010',\n '1011',\n '1100',\n '1101',\n '1110',\n '1111']"
     },
     "execution_count": 18,
     "metadata": {},
     "output_type": "execute_result"
    }
   ],
   "source": [
    "def generate_binary_strings(n):\n",
    "    binary_strings = []\n",
    "\n",
    "    def gen_bin(n, bs=''):\n",
    "        if n == 0:\n",
    "            binary_strings.append(bs)\n",
    "        else:\n",
    "            gen_bin(n - 1, bs + '0')\n",
    "            gen_bin(n - 1, bs + '1')\n",
    "\n",
    "    gen_bin(n)\n",
    "    return binary_strings\n",
    "\n",
    "\n",
    "generate_binary_strings(4)"
   ],
   "metadata": {
    "collapsed": false,
    "ExecuteTime": {
     "start_time": "2023-04-08T22:35:36.623799Z",
     "end_time": "2023-04-08T22:35:36.632670Z"
    }
   }
  },
  {
   "cell_type": "markdown",
   "source": [
    "## Đường đi trong mê cung: Tìm đường đi từ A đến B trong mê cung."
   ],
   "metadata": {
    "collapsed": false
   }
  },
  {
   "cell_type": "code",
   "execution_count": 5,
   "outputs": [
    {
     "name": "stdout",
     "output_type": "stream",
     "text": [
      "[1, 2, 3, 6, 4, 5]\n",
      "[1, 2, 3, 7, 6, 4, 5]\n",
      "[1, 2, 7, 3, 6, 4, 5]\n",
      "[1, 2, 7, 6, 4, 5]\n",
      "[1, 8, 2, 3, 6, 4, 5]\n",
      "[1, 8, 2, 3, 7, 6, 4, 5]\n",
      "[1, 8, 2, 7, 3, 6, 4, 5]\n",
      "[1, 8, 2, 7, 6, 4, 5]\n"
     ]
    }
   ],
   "source": [
    "graph = {\n",
    "    1: [2, 8],\n",
    "    2: [1, 3, 7, 8],\n",
    "    3: [2, 6, 7],\n",
    "    4: [5, 6],\n",
    "    5: [4],\n",
    "    6: [3, 4, 7],\n",
    "    7: [2, 3, 6],\n",
    "    8: [1, 2]\n",
    "}\n",
    "\n",
    "\n",
    "def find_path(graph, start, end, path=None, visited=None):\n",
    "    if path is None:\n",
    "        path = []\n",
    "    if visited is None:\n",
    "        visited = [False] * (len(graph) + 1)\n",
    "    if start == end:\n",
    "        print(path + [start])\n",
    "    else:\n",
    "        visited[start] = True\n",
    "        for node in graph[start]:\n",
    "            if not visited[node]:\n",
    "                find_path(graph, node, end, path + [start], visited)\n",
    "        visited[start] = False\n",
    "\n",
    "\n",
    "find_path(graph, 1, 5)"
   ],
   "metadata": {
    "collapsed": false,
    "ExecuteTime": {
     "start_time": "2023-04-03T14:38:19.934385Z",
     "end_time": "2023-04-03T14:38:19.958566Z"
    }
   }
  },
  {
   "cell_type": "markdown",
   "source": [
    "# Đặt bài toán, thiết kế, phân tích và triển khai thuật toán\n",
    "Liệt kê các hoán vị của n phần tử.\n",
    "- Đặt bài toán:\n",
    "    - Cho n phần tử, liệt kê các hoán vị của n phần tử.\n",
    "- Thiết kế thuật toán:\n",
    "    - Sử dụng phương pháp nhánh cận (Branch and Bound) để giải bài toán.\n",
    "    - Chọn phần tử làm phần tử đầu tiên\n",
    "    - Chọn phần tử tiếp theo là phần tử chưa được chọn trước đó, lặp lại cho đến khi tất cả các phần tử được chọn\n",
    "    - Quay lui chọn phần tử tiếp theo\n",
    "- Phân tích thuật toán:\n",
    "    - Độ phức tạp thời gian: O(n!)\n",
    "    - Độ phức tạp không gian: O(n!)"
   ],
   "metadata": {
    "collapsed": false
   }
  },
  {
   "cell_type": "code",
   "execution_count": 15,
   "outputs": [
    {
     "data": {
      "text/plain": "[[1, 2, 3], [1, 3, 2], [2, 1, 3], [2, 3, 1], [3, 1, 2], [3, 2, 1]]"
     },
     "execution_count": 15,
     "metadata": {},
     "output_type": "execute_result"
    }
   ],
   "source": [
    "def permute(items):\n",
    "    result = []\n",
    "    if len(items) == 1:\n",
    "        return [items]\n",
    "    else:\n",
    "        for i in items:\n",
    "            temp = items.copy()\n",
    "            temp.remove(i)\n",
    "            for p in permute(temp):\n",
    "                result.append([i] + p)\n",
    "    return result\n",
    "\n",
    "permute([1, 2, 3])"
   ],
   "metadata": {
    "collapsed": false,
    "ExecuteTime": {
     "start_time": "2023-04-08T22:12:11.321741Z",
     "end_time": "2023-04-08T22:12:11.330476Z"
    }
   }
  },
  {
   "cell_type": "markdown",
   "source": [
    "- Thiết kế thuật toán 2:\n",
    "    - Sử dụng phương pháp nhánh cận (Backtracking) để giải bài toán.\n",
    "    - Chạy trên toàn mảng\n",
    "        - Kiểm tra phần tử được chọn chưa\n",
    "            - Nếu chưa chạy tiếp\n",
    "            - Nếu đã được chọn thì bỏ qua\n",
    "        - Thêm phần tử vào mảng tạm\n",
    "        - Đánh dấu phần tử đã được chọn\n",
    "        - Đệ quy cho tới khi mảng tạm bằng chiều dài danh sách\n",
    "        - Lấy kết quả và đánh dấu phần tử đã được chọn thành chưa được chọn\n",
    "        - Bỏ khỏi mảng tạm\n",
    "- Phân tích thuật toán 2:\n",
    "    - Độ phức tạp thời gian: O(n!)\n",
    "    - Độ phức tạp không gian: O(n)"
   ],
   "metadata": {
    "collapsed": false
   }
  },
  {
   "cell_type": "code",
   "execution_count": 16,
   "outputs": [
    {
     "data": {
      "text/plain": "[[1, 2, 3], [1, 3, 2], [2, 1, 3], [2, 3, 1], [3, 1, 2], [3, 2, 1]]"
     },
     "execution_count": 16,
     "metadata": {},
     "output_type": "execute_result"
    }
   ],
   "source": [
    "def permute2(items):\n",
    "    result = []\n",
    "    used = [False] * len(items)\n",
    "    def backtracking(tmp = None):\n",
    "        if tmp is None:\n",
    "            tmp = []\n",
    "        if len(tmp) == len(items):\n",
    "            result.append(tmp)\n",
    "            return\n",
    "        for i in range(len(items)):\n",
    "            if not used[i]:\n",
    "                used[i] = True\n",
    "                tmp.append(items[i])\n",
    "                backtracking(tmp.copy())\n",
    "                used[i] = False\n",
    "                tmp.pop()\n",
    "            else:\n",
    "                continue\n",
    "    backtracking()\n",
    "    return result\n",
    "\n",
    "permute2([1, 2, 3])"
   ],
   "metadata": {
    "collapsed": false,
    "ExecuteTime": {
     "start_time": "2023-04-08T22:12:14.307661Z",
     "end_time": "2023-04-08T22:12:14.351553Z"
    }
   }
  }
 ],
 "metadata": {
  "kernelspec": {
   "display_name": "Python 3",
   "language": "python",
   "name": "python3"
  },
  "language_info": {
   "codemirror_mode": {
    "name": "ipython",
    "version": 2
   },
   "file_extension": ".py",
   "mimetype": "text/x-python",
   "name": "python",
   "nbconvert_exporter": "python",
   "pygments_lexer": "ipython2",
   "version": "2.7.6"
  }
 },
 "nbformat": 4,
 "nbformat_minor": 0
}
