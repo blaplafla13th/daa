{
 "cells": [
  {
   "cell_type": "markdown",
   "source": [
    "# Bài tập tại lớp\n",
    "## Chuyển đổi công thức truy hồi sau thành code\n",
    "$$T(0)=T(1)=2$$\n",
    "$$T(n)=\\sum^{n-1}_{i=1}2.T(i).T(i-1)$$"
   ],
   "metadata": {
    "collapsed": false
   }
  },
  {
   "cell_type": "code",
   "execution_count": 38,
   "outputs": [],
   "source": [
    "def f1(n):\n",
    "    if n < 0:\n",
    "        return 1\n",
    "    if n == 0 or n == 1:\n",
    "        return 2\n",
    "    else:\n",
    "        sum = 0\n",
    "        for i in range(1,n,1):\n",
    "            sum += 2*f1(i)*f1(i-1)\n",
    "        return sum"
   ],
   "metadata": {
    "collapsed": false,
    "ExecuteTime": {
     "start_time": "2023-04-24T13:55:35.575295Z",
     "end_time": "2023-04-24T13:55:35.616610Z"
    }
   }
  },
  {
   "cell_type": "code",
   "execution_count": 39,
   "outputs": [
    {
     "name": "stdout",
     "output_type": "stream",
     "text": [
      "2\n",
      "2\n",
      "8\n",
      "40\n",
      "680\n",
      "55080\n",
      "74963880\n",
      "8258095984680\n",
      "1238117841106162701480\n",
      "20448991944400183027230645149354280\n"
     ]
    }
   ],
   "source": [
    "for i in range(10):\n",
    "    print(f1(i))"
   ],
   "metadata": {
    "collapsed": false,
    "ExecuteTime": {
     "start_time": "2023-04-24T13:55:36.098656Z",
     "end_time": "2023-04-24T13:55:36.120906Z"
    }
   }
  },
  {
   "cell_type": "markdown",
   "source": [
    "## Có thể cải thiện giải pháp của Exercise 1 bằng quy hoạch động không? Vì sao?\n",
    "Có vì nó cần tính toán lại kết quả đằng trước"
   ],
   "metadata": {
    "collapsed": false
   }
  },
  {
   "cell_type": "code",
   "execution_count": 68,
   "outputs": [],
   "source": [
    "def f2(n):\n",
    "    n=n+1\n",
    "    a = [2,2]\n",
    "    for i in range(2,n):\n",
    "        sum = 0\n",
    "        for j in range(1,i):\n",
    "            sum += 2*a[j]*a[j-1]\n",
    "        a.append(sum)\n",
    "    return a[n-1]"
   ],
   "metadata": {
    "collapsed": false,
    "ExecuteTime": {
     "start_time": "2023-04-24T14:06:55.689333Z",
     "end_time": "2023-04-24T14:06:55.695835Z"
    }
   }
  },
  {
   "cell_type": "code",
   "execution_count": 69,
   "outputs": [
    {
     "name": "stdout",
     "output_type": "stream",
     "text": [
      "2\n",
      "2\n",
      "8\n",
      "40\n",
      "680\n",
      "55080\n",
      "74963880\n",
      "8258095984680\n",
      "1238117841106162701480\n",
      "20448991944400183027230645149354280\n"
     ]
    }
   ],
   "source": [
    "for i in range(10):\n",
    "    print(f2(i))"
   ],
   "metadata": {
    "collapsed": false,
    "ExecuteTime": {
     "start_time": "2023-04-24T14:06:56.236216Z",
     "end_time": "2023-04-24T14:06:56.262039Z"
    }
   }
  },
  {
   "cell_type": "markdown",
   "source": [
    "## Chúng ta có thể cải thiện hơn nữa về độ phức tạp của Exercise 2 không? Vì sao?"
   ],
   "metadata": {
    "collapsed": false
   }
  },
  {
   "cell_type": "code",
   "execution_count": 55,
   "outputs": [],
   "source": [
    "def f3(n):\n",
    "    a = 2\n",
    "    b = 2\n",
    "    for i in range(2,n):\n",
    "        a, b = b, b+2*a*b\n",
    "    return a"
   ],
   "metadata": {
    "collapsed": false
   }
  },
  {
   "cell_type": "code",
   "execution_count": 19,
   "outputs": [],
   "source": [],
   "metadata": {
    "collapsed": false,
    "ExecuteTime": {
     "start_time": "2023-04-24T13:39:07.918024Z",
     "end_time": "2023-04-24T13:39:07.965125Z"
    }
   }
  }
 ],
 "metadata": {
  "kernelspec": {
   "display_name": "Python 3 (ipykernel)",
   "language": "python",
   "name": "python3"
  },
  "language_info": {
   "codemirror_mode": {
    "name": "ipython",
    "version": 3
   },
   "file_extension": ".py",
   "mimetype": "text/x-python",
   "name": "python",
   "nbconvert_exporter": "python",
   "pygments_lexer": "ipython3",
   "version": "3.9.13"
  }
 },
 "nbformat": 4,
 "nbformat_minor": 0
}
